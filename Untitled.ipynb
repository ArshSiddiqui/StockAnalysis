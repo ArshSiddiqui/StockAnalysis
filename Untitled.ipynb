{
 "cells": [
  {
   "cell_type": "code",
   "execution_count": 29,
   "id": "8022b6dc",
   "metadata": {},
   "outputs": [
    {
     "name": "stdout",
     "output_type": "stream",
     "text": [
      "    1 +---------------------------------------+\n",
      "  0.8 |-+  **   ***    +     +     +    +   +-|\n",
      "  0.6 |-+ *        *             data *******-|\n",
      "  0.4 |-**          **                      +-|\n",
      "  0.2 |*+             *                     +-|\n",
      "    0 |-+              *                    +-|\n",
      "      |                 **                *   |\n",
      " -0.2 |-+                 *             **  +-|\n",
      " -0.4 |-+                  *           *    +-|\n",
      " -0.6 |-+                   **       **     +-|\n",
      " -0.8 |-+   +    +     +     +**   **   +   +-|\n",
      "   -1 +---------------------------------------+\n",
      "      0     1    2     3     4     5    6     7\n"
     ]
    }
   ],
   "source": [
    "import termplotlib as tpl\n",
    "import numpy as np\n",
    "\n",
    "x = np.linspace(0, 2 * np.pi, 10)\n",
    "y = np.sin(x)\n",
    "\n",
    "fig = tpl.figure()\n",
    "fig.plot(x, y, label=\"data\", width=50, height=15)\n",
    "fig.show()"
   ]
  },
  {
   "cell_type": "code",
   "execution_count": 50,
   "id": "cc609ed8",
   "metadata": {},
   "outputs": [
    {
     "name": "stdout",
     "output_type": "stream",
     "text": [
      "[Timestamp('2022-06-01 00:00:00', freq='B'), Timestamp('2022-06-02 00:00:00', freq='B'), Timestamp('2022-06-03 00:00:00', freq='B'), Timestamp('2022-06-06 00:00:00', freq='B'), Timestamp('2022-06-07 00:00:00', freq='B'), Timestamp('2022-06-08 00:00:00', freq='B')]\n",
      "[148.7100067138672, 151.2100067138672, 145.3800048828125, 146.13999938964844, 148.7100067138672, 149.32000732421875]\n",
      "  152 +---------------------------------------------------------------------+\n",
      "      |             +             +             +             +             |\n",
      "  151 |-+          **                                          AAPL *******-|\n",
      "      |          **  *                                                      |\n",
      "      |        **     *                                                     |\n",
      "  150 |-+   ***        *                                                  +-|\n",
      "      |   **            *                                                ***|\n",
      "  149 |-**               *                                        ******* +-|\n",
      "      |*                  *                                  *****          |\n",
      "  148 |-+                  **                             ***             +-|\n",
      "      |                      *                         ***                  |\n",
      "  147 |-+                     *                      **                   +-|\n",
      "      |                        *                  ***                       |\n",
      "      |                         *            *****                          |\n",
      "  146 |-+                        *    *******                             +-|\n",
      "      |             +             ****          +             +             |\n",
      "  145 +---------------------------------------------------------------------+\n",
      "      1             2             3             4             5             6\n"
     ]
    }
   ],
   "source": [
    "import termplotlib as tpl\n",
    "import datetime\n",
    "from pandas_datareader import data\n",
    "import pandas as pd\n",
    "import matplotlib.pyplot as plt\n",
    "\n",
    "today = datetime.date.today()\n",
    "yesterday = str(today - datetime.timedelta(7))\n",
    "end_date = str(today)\n",
    "panel_data = data.DataReader('AAPL', 'yahoo', yesterday, end_date)\n",
    "close = panel_data['Close']\n",
    "\n",
    "all_weekdays = pd.date_range(start=yesterday, end=end_date, freq='B')\n",
    "close = close.reindex(all_weekdays)\n",
    "close = close.fillna(method='ffill')\n",
    "\n",
    "fig = tpl.figure()\n",
    "\n",
    "print(close.index.tolist())\n",
    "x = [1, 2, 3, 4, 5, 6]\n",
    "print(close.tolist())\n",
    "\n",
    "fig.plot(x, close.tolist(), label=\"AAPL\", width=80, height=20)\n",
    "\n",
    "fig.show()"
   ]
  },
  {
   "cell_type": "code",
   "execution_count": null,
   "id": "51e4ca48",
   "metadata": {},
   "outputs": [],
   "source": []
  },
  {
   "cell_type": "code",
   "execution_count": null,
   "id": "ed461f7d",
   "metadata": {},
   "outputs": [],
   "source": []
  }
 ],
 "metadata": {
  "kernelspec": {
   "display_name": "Python 3",
   "language": "python",
   "name": "python3"
  },
  "language_info": {
   "codemirror_mode": {
    "name": "ipython",
    "version": 3
   },
   "file_extension": ".py",
   "mimetype": "text/x-python",
   "name": "python",
   "nbconvert_exporter": "python",
   "pygments_lexer": "ipython3",
   "version": "3.8.8"
  }
 },
 "nbformat": 4,
 "nbformat_minor": 5
}
